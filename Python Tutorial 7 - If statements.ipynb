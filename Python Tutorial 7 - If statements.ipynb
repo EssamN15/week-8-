{
 "cells": [
  {
   "cell_type": "markdown",
   "metadata": {},
   "source": [
    "<img src=\"https://github.com/CorndelDataAnalyticsDiploma/workshop/blob/master/Corndel%20Digital%20Logo%20Centre.png?raw=true\" width =\"100.5\" height=72 >\n",
    "\n",
    "<h2><i><center> Python Tutorial 7 </center><i></h2>\n",
    "<h1><center> If statements </center></h1>"
   ]
  },
  {
   "cell_type": "markdown",
   "metadata": {},
   "source": [
    "The purpose of this Jupyter Notebook is to accompany the Python Tutorial 7 video. It includes all the code used during the video itself, including some practice tasks, which you should complete independently whilst the video is paused. We have also provided more questions in the last section of this Jupyter Notebook for you to further practice the concepts taught in the video."
   ]
  },
  {
   "cell_type": "markdown",
   "metadata": {},
   "source": [
    "# <a id=\"Contents\"> Contents </a>\n",
    "\n",
    "* <a href='#1'>**1 - Video Content** </a>\n",
    "    * <a href='#1.01'>1.01 - Syntax for if-statements </a>\n",
    "    * <a href='#1.02'>1.02 - Identation </a>\n",
    "* <a href='#2'>**2 - Independent study questions** </a>\n",
    "* <a href='#3'>**3 - Independent study answers** </a>"
   ]
  },
  {
   "cell_type": "markdown",
   "metadata": {},
   "source": [
    "-----------------"
   ]
  },
  {
   "cell_type": "markdown",
   "metadata": {},
   "source": [
    "# 1 - <a id='1'> Video Content </a>"
   ]
  },
  {
   "cell_type": "markdown",
   "metadata": {},
   "source": [
    "## <a id='1.01'>1.01 - Syntax for if-statements</a>"
   ]
  },
  {
   "cell_type": "code",
   "execution_count": null,
   "metadata": {
    "scrolled": true
   },
   "outputs": [],
   "source": [
    "x = input()\n",
    "x = int(x)  # Convert from string to integer\n",
    "\n",
    "# Example if statement with 3 outcomes\n",
    "if x % 3 == 0:\n",
    "    print('x is divisible by 3')\n",
    "elif x % 4 == 0:\n",
    "    print('x is divisible by 4')\n",
    "else:\n",
    "    print('x is divisible by neither 3 nor 4')"
   ]
  },
  {
   "cell_type": "code",
   "execution_count": null,
   "metadata": {},
   "outputs": [],
   "source": [
    "##  if\n",
    "##  elif\n",
    "##  else"
   ]
  },
  {
   "cell_type": "code",
   "execution_count": null,
   "metadata": {},
   "outputs": [],
   "source": [
    "# Example question\n",
    "# Create an if statement which will take a user-provided input\n",
    "# And print an animal noise appropriate to the input\n",
    "\n"
   ]
  },
  {
   "cell_type": "markdown",
   "metadata": {},
   "source": [
    "#### Tasks for you!"
   ]
  },
  {
   "cell_type": "code",
   "execution_count": null,
   "metadata": {},
   "outputs": [],
   "source": [
    "# 1. Complete the following code.\n",
    "#    Write an if statement which will take two user-provided inputs\n",
    "#    And then prints the appropriate message.\n",
    "\n",
    "first_input = float(input())\n",
    "second_input = float(input())\n",
    "\n",
    "statement_1 = 'First number is the same as second number'\n",
    "statement_2 = 'First number is greater than second number'\n",
    "statement_3 = 'First number is less than second number'\n",
    "\n"
   ]
  },
  {
   "cell_type": "code",
   "execution_count": null,
   "metadata": {},
   "outputs": [],
   "source": [
    "# 2. Write an if statement which takes a user-provided input\n",
    "#    And then prints one of four messages, corresponding to four possible outcomes:\n",
    "#    the input appears in both lists, only list_1, only list_2, or neither.\n",
    "\n",
    "list_1 = [2,3,5,7]\n",
    "list_2 = [2,4,6,8]\n",
    "\n"
   ]
  },
  {
   "cell_type": "markdown",
   "metadata": {},
   "source": [
    "## <a id='1.02'>1.02 - Indentation</a>"
   ]
  },
  {
   "cell_type": "code",
   "execution_count": null,
   "metadata": {},
   "outputs": [],
   "source": [
    "# Example of an if statement with multiple lines of code contained within\n",
    "\n",
    "x = input()\n",
    "x = int(x)\n",
    "\n",
    "if x % 2 == 0:\n",
    "    print('x even')\n",
    "    half_x = x / 2\n",
    "    print('half of x is',half_x)\n",
    "else:\n",
    "    print('x is not even')\n",
    "    \n",
    "print('This statement will always be printed')"
   ]
  },
  {
   "cell_type": "code",
   "execution_count": null,
   "metadata": {},
   "outputs": [],
   "source": [
    "# Example of an if statement with two levels\n",
    "\n",
    "x = input()\n",
    "x = int(x)\n",
    "\n",
    "if x % 2 == 0:\n",
    "    print('x even')\n",
    "    if x % 3 == 0:\n",
    "        print('x is also divisible by 3')"
   ]
  },
  {
   "cell_type": "markdown",
   "metadata": {},
   "source": [
    "#### Tasks for you!"
   ]
  },
  {
   "cell_type": "code",
   "execution_count": null,
   "metadata": {},
   "outputs": [],
   "source": [
    "# 1. Complete the following code.\n",
    "#    Write an if statement which will take a user-provided input\n",
    "#    And first check whether the input is a whole number*\n",
    "#    And then check whether it is even.\n",
    "\n",
    "#  * Hint: if int(x) == float(x) then x must be a whole number\n",
    "\n",
    "#    Note: you should not use the 'and' logical operator\n",
    "\n",
    "user_input = float(input())\n",
    "\n",
    "if CONDITION:\n"
   ]
  },
  {
   "cell_type": "markdown",
   "metadata": {},
   "source": [
    "--------------------------"
   ]
  },
  {
   "cell_type": "markdown",
   "metadata": {},
   "source": [
    "# 2 - <a id='2'> Independent study questions </a>"
   ]
  },
  {
   "cell_type": "markdown",
   "metadata": {},
   "source": [
    "These next questions are not shown during the video. They build on the skills you have just practised."
   ]
  },
  {
   "cell_type": "markdown",
   "metadata": {},
   "source": [
    "### Question 1\n",
    "Have a look at the code below, and try to answer the following questions without running it.\n",
    " 1. Without using python, decode what text will appear on your screen\n",
    " 2. How would you amend this code so that it prints out the statement: \"The first recorded zero appeared in Mesopotamia around 3 B.C\" for number = 0?"
   ]
  },
  {
   "cell_type": "code",
   "execution_count": null,
   "metadata": {},
   "outputs": [],
   "source": [
    "'''\n",
    "number = 42\n",
    "\n",
    "if number < 0:\n",
    "    print('Your number is negative')\n",
    "    if number < 10000:\n",
    "        Print('Your number is very small!')\n",
    "else:\n",
    "    print('Your number is positive')\n",
    "    if number > 10:\n",
    "        print('Your number is bigger than 10')\n",
    "        if number > 41 and number <  43:\n",
    "            print('This is the answer to the universe')\n",
    "    else:\n",
    "        print('Your number is less than 10')\n",
    "        \n",
    "'''"
   ]
  },
  {
   "cell_type": "markdown",
   "metadata": {},
   "source": [
    "### Question 2\n",
    "The code below doesn't work. Find the error, fix it, and run it."
   ]
  },
  {
   "cell_type": "code",
   "execution_count": null,
   "metadata": {},
   "outputs": [],
   "source": [
    "age = 18\n",
    "\n",
    "if age < 18:\n",
    "    print(\"You're not yet an adult\")\n",
    "else:\n",
    "print('Congratulations, you are an adult')\n"
   ]
  },
  {
   "cell_type": "markdown",
   "metadata": {},
   "source": [
    "### Question 3\n",
    "A person pulls a card with a number between 1 and 100 out of a box. If the number is between 1-49 she wins nothing. \n",
    "If the number is 50, she wins 100 GBP. In all other cases she wins 1 GBP."
   ]
  },
  {
   "cell_type": "markdown",
   "metadata": {},
   "source": [
    "Write a piece of code that prints out messages regarding the financial gains. Take the following steps:\n",
    " 1. Create a variable called card, and assign it a value between 1-100 \n",
    " 2. Write an if-statement that checks if card is larger or equal to 1, and smaller or equal to 49. print out a message if this is True\n",
    " 3. Write a subsequent elif statement that checks if card equals 50, if this is True a statement should be printed saying that you have won 100 GBP\n",
    " 4. Write another elif statement that checks if card is between 51 and 100. If True, print a statement saying that 1 GBP is won.\n",
    " 5. Print a final else statement that, if True, prints a statement saying that the card number is invalid."
   ]
  },
  {
   "cell_type": "code",
   "execution_count": null,
   "metadata": {},
   "outputs": [],
   "source": [
    "\n",
    "\n",
    "\n",
    "\n"
   ]
  },
  {
   "cell_type": "markdown",
   "metadata": {},
   "source": [
    "### Question 4\n",
    "This time a person pulls two cards, if the first card number is 50 and the second card number is also 50, she wins 1 million GBP. If only the first card is 50, she just wins 100 GBP. Everything else is identical to the question above. Write a piece of python code that prints out sensible messages"
   ]
  },
  {
   "cell_type": "code",
   "execution_count": null,
   "metadata": {},
   "outputs": [],
   "source": [
    "\n",
    "\n",
    "\n",
    "\n"
   ]
  },
  {
   "cell_type": "markdown",
   "metadata": {},
   "source": [
    "-----------------"
   ]
  },
  {
   "cell_type": "markdown",
   "metadata": {},
   "source": [
    "# 3 - <a id='3'> Independent study answers </a>"
   ]
  },
  {
   "cell_type": "markdown",
   "metadata": {},
   "source": [
    "### Question 1"
   ]
  },
  {
   "cell_type": "code",
   "execution_count": null,
   "metadata": {},
   "outputs": [],
   "source": [
    "'''\n",
    "(1)\n",
    "Your number is positive\n",
    "Your number is bigger than 10\n",
    "This is the answer to the universe\n",
    "'''\n",
    "\n",
    "# (2) \n",
    "number = 0\n",
    "\n",
    "if number < 0:\n",
    "    print('Your number is negative')\n",
    "    if number < 10000:\n",
    "        Print('Your number is very small!')\n",
    "elif number == 0:\n",
    "    print(\"The first recorded zero appeared in Mesopotamia around 3 B.C\")\n",
    "else:\n",
    "    print('Your number is positive')\n",
    "    if number > 10:\n",
    "        print('Your number is bigger than 10')\n",
    "        if number > 41 and number <  43:\n",
    "            print('This is the answer to the universe')\n",
    "    else:\n",
    "        print('Your number is less than 10')\n"
   ]
  },
  {
   "cell_type": "markdown",
   "metadata": {},
   "source": [
    "### Question 2"
   ]
  },
  {
   "cell_type": "code",
   "execution_count": null,
   "metadata": {},
   "outputs": [],
   "source": [
    "age = 18\n",
    "\n",
    "if age < 18:\n",
    "    print(\"You're not yet an adult\")\n",
    "else:\n",
    "    print('Congratulations, you are an adult')\n",
    "# Just need to indent the print statement in the line above!"
   ]
  },
  {
   "cell_type": "markdown",
   "metadata": {},
   "source": [
    "### Question 3"
   ]
  },
  {
   "cell_type": "code",
   "execution_count": null,
   "metadata": {},
   "outputs": [],
   "source": [
    "# A possible solution to Question 3:\n",
    "\n",
    "card = 99\n",
    "\n",
    "if card >= 1 and card <= 49:\n",
    "    print(\"you did not win anything, c'est la vie\")\n",
    "elif card == 50:\n",
    "    print('congratulations! You have won 100 GBP')\n",
    "elif card >= 51 and card <= 100:\n",
    "    print('you have won a symbolic GBP')\n",
    "else:\n",
    "    print('your card number is not valid')"
   ]
  },
  {
   "cell_type": "markdown",
   "metadata": {},
   "source": [
    "### Question 4"
   ]
  },
  {
   "cell_type": "code",
   "execution_count": null,
   "metadata": {},
   "outputs": [],
   "source": [
    "# A possible solution to Question 4:\n",
    "\n",
    "card1 = 50\n",
    "card2 = 50\n",
    "\n",
    "if card1 >= 1 and card1 <= 49:\n",
    "    print(\"you did not win anything, c'est la vie\")\n",
    "elif card1 == 50:\n",
    "    if card2 == 50:\n",
    "        print('You have won 1 Million GBP!!')\n",
    "    else:\n",
    "        print('congratulations! You have won 100 GBP')\n",
    "elif card1 >= 51 and card1 <= 100:\n",
    "    print('you have won a symbolic GBP')\n",
    "else:\n",
    "    print('your card number is not valid')"
   ]
  },
  {
   "cell_type": "markdown",
   "metadata": {},
   "source": [
    "----------------"
   ]
  }
 ],
 "metadata": {
  "kernelspec": {
   "display_name": "Python 3",
   "language": "python",
   "name": "python3"
  },
  "language_info": {
   "codemirror_mode": {
    "name": "ipython",
    "version": 3
   },
   "file_extension": ".py",
   "mimetype": "text/x-python",
   "name": "python",
   "nbconvert_exporter": "python",
   "pygments_lexer": "ipython3",
   "version": "3.7.3"
  }
 },
 "nbformat": 4,
 "nbformat_minor": 2
}
